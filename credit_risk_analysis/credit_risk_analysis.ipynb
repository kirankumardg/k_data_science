{
  "nbformat": 4,
  "nbformat_minor": 0,
  "metadata": {
    "colab": {
      "provenance": []
    },
    "kernelspec": {
      "name": "python3",
      "display_name": "Python 3"
    },
    "language_info": {
      "name": "python"
    }
  },
  "cells": [
    {
      "cell_type": "code",
      "execution_count": 28,
      "metadata": {
        "colab": {
          "base_uri": "https://localhost:8080/"
        },
        "id": "QZS0ongDHBxx",
        "outputId": "6f7c5acc-a300-4967-ddad-d96372d64dd5"
      },
      "outputs": [
        {
          "output_type": "stream",
          "name": "stderr",
          "text": [
            "/usr/local/lib/python3.10/dist-packages/sklearn/ensemble/_forest.py:424: FutureWarning: `max_features='auto'` has been deprecated in 1.1 and will be removed in 1.3. To keep the past behaviour, explicitly set `max_features='sqrt'` or remove this parameter as it is also the default value for RandomForestClassifiers and ExtraTreesClassifiers.\n",
            "  warn(\n"
          ]
        },
        {
          "output_type": "stream",
          "name": "stdout",
          "text": [
            "              precision    recall  f1-score   support\n",
            "\n",
            "           0       0.95      0.99      0.97     28044\n",
            "           1       0.49      0.18      0.26      1956\n",
            "\n",
            "    accuracy                           0.93     30000\n",
            "   macro avg       0.72      0.58      0.62     30000\n",
            "weighted avg       0.92      0.93      0.92     30000\n",
            "\n"
          ]
        }
      ],
      "source": [
        "import pandas as pd\n",
        "import numpy as np\n",
        "import seaborn as sns\n",
        "import matplotlib.pyplot as plt\n",
        "%matplotlib inline\n",
        "\n",
        "#import data set\n",
        "train = pd.read_csv('train.csv')\n",
        "\n",
        "train=train.drop('Unnamed: 0', axis = 1)\n",
        "# For each column heading we replace \"-\" and convert the heading in lowercase \n",
        "\n",
        "cleancolumn = []\n",
        "for i in range(len(train.columns)):\n",
        "    cleancolumn.append(train.columns[i].replace('-', '').lower())\n",
        "train.columns = cleancolumn\n",
        "\n",
        "\n",
        "train.head()\n",
        "\n",
        "train[train.columns[1:]].describe()\n",
        "\n",
        "# Not available data\n",
        "train[1:].isna().tail(10)\n",
        "\n",
        "# This give you the calulation of the target lebels. Which category of the target lebel is how many percentage.\n",
        "total_len = len(train['seriousdlqin2yrs'])\n",
        "percentage_labels = (train['seriousdlqin2yrs'].value_counts()/total_len)*100\n",
        "percentage_labels\n",
        "\n",
        "train.isnull().sum()\n",
        "\n",
        "train_mean = train.fillna((train.mean()))\n",
        "train_mean.head()\n",
        "\n",
        "\n",
        "train_mean.isnull().sum()\n",
        "\n",
        "\n",
        "#Corelation\n",
        "\n",
        "train.fillna((train.median()), inplace=True)\n",
        "# Get the correlation of the training dataset\n",
        "correlation=train[train.columns[1:]].corr()\n",
        "correlation\n",
        "\n",
        "\n",
        "train.columns\n",
        "\n",
        "#Feature selection\n",
        "\n",
        "features_label = train.columns[1:]\n",
        "\n",
        "from sklearn.linear_model import LogisticRegression\n",
        "from sklearn.ensemble import AdaBoostClassifier, GradientBoostingClassifier, RandomForestClassifier\n",
        "from sklearn.neighbors import KNeighborsClassifier\n",
        "from sklearn.model_selection import train_test_split\n",
        "from sklearn.metrics import roc_auc_score\n",
        "\n",
        "X=train.drop(\"seriousdlqin2yrs\",axis=1)\n",
        "y = train.seriousdlqin2yrs\n",
        "\n",
        "\n",
        "from sklearn.model_selection  import train_test_split\n",
        "X_train, X_test, y_train, y_test = train_test_split(X, y, test_size = 0.20, random_state = 42)\n",
        "\n",
        "from sklearn.ensemble import RandomForestClassifier\n",
        "\n",
        "Random = RandomForestClassifier(n_estimators=10, criterion='gini', max_depth=None, min_samples_split=2,\n",
        "                               min_samples_leaf=1, min_weight_fraction_leaf=0.0, max_features='auto',\n",
        "                               max_leaf_nodes=None, bootstrap=True, oob_score=False, n_jobs=1, \n",
        "                               random_state=None, verbose=0)\n",
        "Random.fit(X_train, y_train)\n",
        "\n",
        "y_pred = Random.predict(X_test)\n",
        "\n",
        "from sklearn.metrics import confusion_matrix\n",
        "cm = confusion_matrix(y_test, y_pred)\n",
        "np.set_printoptions(precision=2)\n",
        "\n",
        "from sklearn.metrics import classification_report\n",
        "print(classification_report(y_test, y_pred))\n"
      ]
    }
  ]
}